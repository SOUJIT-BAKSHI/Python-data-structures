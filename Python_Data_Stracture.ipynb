{
  "nbformat": 4,
  "nbformat_minor": 0,
  "metadata": {
    "colab": {
      "provenance": []
    },
    "kernelspec": {
      "name": "python3",
      "display_name": "Python 3"
    },
    "language_info": {
      "name": "python"
    }
  },
  "cells": [
    {
      "cell_type": "markdown",
      "source": [
        "#1. What are data structures, and why are they important\n",
        "\n",
        "Data structures are methods of organizing, storing, and managing data so it can be accessed and modified efficiently—they include arrays, lists, stacks, trees, hash tables, and more. They’re crucial because choosing the right structure impacts performance, memory use, and overall efficiency in solving problems.\n",
        "________________________________________\n",
        "#2. Explain the differance between Mutable vs. Immutable Data Types with examples?\n",
        "\n",
        "•\tMutable objects can be changed after creation (e.g., lists, dictionaries, sets).\n",
        "•\tImmutable objects cannot be altered once created (e.g., tuples, strings, integers)\n",
        "________________________________________\n",
        "#3. What are the main Differences Between Lists and Tuples in python?\n",
        "\n",
        "Feature         \tList\t         Tuple\n",
        "\n",
        "Syntax\t           []\t             ()\n",
        "\n",
        "Mutability    \t Mutable\t      Immutable\n",
        "\n",
        "Methods\t       .append(),        .pop()\t      No modification methods\n",
        "________________________________________\n",
        "#4. Describe how Dictionaries Store Data\n",
        "\n",
        "Dictionaries use a hash table internally, mapping unique, hashable keys to values. Keys are hashed to find their corresponding value quickly—achieving average O(1) lookup time\n",
        "________________________________________\n",
        "#5. Why Use a Set instead of a List\n",
        "\n",
        "•\tSets store unique, unordered items—duplicates are automatically removed .\n",
        "________________________________________\n",
        "#6. What is a String in Python, and How is It Differs from a List\n",
        "\n",
        "Strings are sequences of characters—immutable, and typically used for text. Unlike lists, strings:\n",
        "•\tAre immutable, so can't be altered in place.\n",
        "•\tSupport slicing and indexing but don't support .append() or .remove()\n",
        "________________________________________\n",
        "#7. How Tuples Ensure Data Integrity in python\n",
        "\n",
        "Since they’re immutable, once created, their content can't be changed.\n",
        "________________________________________\n",
        "#8. What is a Hash Table, and How It Relates to\n",
        "   Dictionaries in python\n",
        "\n",
        "A hash table stores key-value pairs by hashing keys to indices.\n",
        "________________________________________\n",
        "#9. Can Lists Contain Different Data Types in pyhton\n",
        "\n",
        "Yes! Lists can hold mixed types—e.g.,( integers, strings, objects)—all in the same list\n",
        "________________________________________\n",
        "#10.Explan Why Strings Are Immutable in python\n",
        "\n",
        "Strings are immutable to:\n",
        "•\tImprove efficiency through interning and memory reuse,\n",
        "•\tEnhance thread-safety, and\n",
        "•\tSimplify reasoning about behavior\n",
        "________________________________________\n",
        "#11. What advantages do dictionaries offer over lists for certain tasks\n",
        "\n",
        "•\tFast key-based access (O(1)),\n",
        "•\tunique keys to values,\n",
        "________________________________________\n",
        "#12.  Describe a scenario where using a tuple would be preferable over a list\n",
        "\n",
        "•\tYou want fixed data that shouldn’t change,\n",
        "•\tYou need a hashable sequence (e.g., as dict keys),\n",
        "•\tOr when the data is small and unchanging, such as (x, y) coordinate pairs\n",
        "________________________________________\n",
        "#13. How do sets handle duplicate values in Python\n",
        "\n",
        "Sets automatically discard duplicates, keeping only one instance of each value\n",
        "________________________________________\n",
        "#14. How does the “in” keyword work differently for lists and dictionaries\n",
        "\n",
        "•\tLists: x in list checks each element in O(n)\n",
        "•\tDictionaries: key in dict checks keys via hash in O(1)\n",
        "________________________________________\n",
        "#15. Can you modify the elements of a tuple? Explain why or why not\n",
        "\n",
        "No—tuples are immutable, so cannot change, add, or remove elements.\n",
        "________________________________________\n",
        "#16. What is a nested dictionary, and give an example of its use case\n",
        "\n",
        "A dictionary with dictionaries as values:\n",
        "people = {\n",
        "         \"alice\": {\"age\": 30, \"city\": \"NY\"},\n",
        "         \"bob\": {\"age\": 25, \"city\": \"LA\"}\n",
        "         }\n",
        "________________________________________\n",
        "#17. Describe the time complexity of accessing elements in a dictionary\n",
        "\n",
        "Accessing, inserting, or deleting a key is O(1) on average—due to its hash table implementation\n",
        "________________________________________\n",
        "#18.In what situations are lists preferred over dictionaries\n",
        "\n",
        "•\tWhen you need ordered sequences with duplicates,\n",
        "•\tFor indexed access (e.g., list[3]),\n",
        "•\tOr to maintain order of elements by position, rather than key-based lookup.\n",
        "________________________________________\n",
        "#19. Why are dictionaries considered unordered, and how does that affect data retrieval?\n",
        "\n",
        "•\tHistorically, dicts didn’t guarantee ordering, though from Python 3.7+ they maintain insertion order—but semantically keys aren't ranked.\n",
        "•\tYou can’t rely on natural sorting or key order unless explicitly sorted.\n",
        "Effect: to iterate in sorted order, you must sort keys first.\n",
        "________________________________________\n",
        "#20. Explain the difference between a List and a Dictionary in Terms of Data Retrieval\n",
        "\n",
        "•\tLists: Retrieve by position index (e.g., list[2]), O(1). Searching by value is O(n).\n",
        "•\tDictionaries: Retrieve by key (e.g., dict[\"key\"]), O(1) average, without needing position.\n",
        "\n"
      ],
      "metadata": {
        "id": "Z2t78OzVd0k2"
      }
    },
    {
      "cell_type": "code",
      "execution_count": null,
      "metadata": {
        "colab": {
          "base_uri": "https://localhost:8080/"
        },
        "id": "t8MqwMh9ZqAf",
        "outputId": "bdf74e5c-fee2-4f22-a57a-381ea253efe1"
      },
      "outputs": [
        {
          "output_type": "stream",
          "name": "stdout",
          "text": [
            "Soujit bakshi\n"
          ]
        }
      ],
      "source": [
        "#1. Write a code to create a string with your name and print it\n",
        "\n",
        "name=\"Soujit bakshi\"\n",
        "print(name)"
      ]
    },
    {
      "cell_type": "code",
      "source": [
        "#2. Write a code to find the length of the string \"Hello World\"\n",
        "\n",
        "n=\"Hellow World\"\n",
        "print(len(n))"
      ],
      "metadata": {
        "colab": {
          "base_uri": "https://localhost:8080/"
        },
        "id": "QgwgpL1wZ5FN",
        "outputId": "03e885e1-6b09-4fa9-9014-2c0700977ad4"
      },
      "execution_count": null,
      "outputs": [
        {
          "output_type": "stream",
          "name": "stdout",
          "text": [
            "12\n"
          ]
        }
      ]
    },
    {
      "cell_type": "code",
      "source": [
        "#3.  Write a code to slice the first 3 characters from the string \"Python Programming\"\n",
        "\n",
        "print(\"Python Programing\"[:3])"
      ],
      "metadata": {
        "colab": {
          "base_uri": "https://localhost:8080/"
        },
        "id": "CcIcWOqGZ7Dc",
        "outputId": "adf17e48-4204-4831-a15d-3686b2e8c9b1"
      },
      "execution_count": null,
      "outputs": [
        {
          "output_type": "stream",
          "name": "stdout",
          "text": [
            "Pyt\n"
          ]
        }
      ]
    },
    {
      "cell_type": "code",
      "source": [
        "#4. Write a code to convert the string \"hello\" to uppercase\n",
        "\n",
        "print(\"hello\".upper())"
      ],
      "metadata": {
        "colab": {
          "base_uri": "https://localhost:8080/"
        },
        "id": "LigNeN1fZ_u8",
        "outputId": "2e5d9556-d9f3-4c80-b636-f42db83549de"
      },
      "execution_count": null,
      "outputs": [
        {
          "output_type": "stream",
          "name": "stdout",
          "text": [
            "HELLO\n"
          ]
        }
      ]
    },
    {
      "cell_type": "code",
      "source": [
        "#5. Write a code to replace the word \"apple\" with \"orange\" in the string \"I like apple\"\n",
        "\n",
        "f=\"i like apple\"\n",
        "print(f.replace(\"apple\",\"orange\"))"
      ],
      "metadata": {
        "colab": {
          "base_uri": "https://localhost:8080/"
        },
        "id": "_76rjW_FaCTN",
        "outputId": "b1924656-29ad-47ab-cb42-69e40059e99b"
      },
      "execution_count": null,
      "outputs": [
        {
          "output_type": "stream",
          "name": "stdout",
          "text": [
            "i like orange\n"
          ]
        }
      ]
    },
    {
      "cell_type": "code",
      "source": [
        "#6. Write a code to create a list with numbers 1 to 5 and print it\n",
        "\n",
        "a=[1,2,3,4,5]\n",
        "print(a)"
      ],
      "metadata": {
        "colab": {
          "base_uri": "https://localhost:8080/"
        },
        "id": "82QFO5QtaERc",
        "outputId": "030bc9ca-0c58-4cab-bfe3-000e67026749"
      },
      "execution_count": null,
      "outputs": [
        {
          "output_type": "stream",
          "name": "stdout",
          "text": [
            "[1, 2, 3, 4, 5]\n"
          ]
        }
      ]
    },
    {
      "cell_type": "code",
      "source": [
        "#7. Write a code to append the number 10 to the list [1, 2, 3, 4]\n",
        "\n",
        "a=[1,2,3,4,]\n",
        "a.append(10)\n",
        "print(a)"
      ],
      "metadata": {
        "colab": {
          "base_uri": "https://localhost:8080/"
        },
        "id": "QLvPd8-LaWkt",
        "outputId": "8d8a243c-bded-494d-ac84-b42ea5c3385d"
      },
      "execution_count": null,
      "outputs": [
        {
          "output_type": "stream",
          "name": "stdout",
          "text": [
            "[1, 2, 3, 4, 10]\n"
          ]
        }
      ]
    },
    {
      "cell_type": "code",
      "source": [
        "#8.  Write a code to remove the number 3 from the list [1, 2, 3, 4, 5]\n",
        "\n",
        "a=[1,2,3,4,5]\n",
        "a.remove(3)\n",
        "print(3)"
      ],
      "metadata": {
        "colab": {
          "base_uri": "https://localhost:8080/"
        },
        "id": "HPqtoSS5aaCN",
        "outputId": "b9feecb7-3125-4016-ad23-8009a1667932"
      },
      "execution_count": null,
      "outputs": [
        {
          "output_type": "stream",
          "name": "stdout",
          "text": [
            "3\n"
          ]
        }
      ]
    },
    {
      "cell_type": "code",
      "source": [
        "#9. Write a code to access the second element in the list ['a', 'b', 'c', 'd']\n",
        "\n",
        "v=['a', 'b', 'c', 'd']\n",
        "print(v[1])"
      ],
      "metadata": {
        "colab": {
          "base_uri": "https://localhost:8080/"
        },
        "id": "f4_L1YFNcHi1",
        "outputId": "37387ef1-e978-4bfb-b39f-a1e8d5cbe341"
      },
      "execution_count": null,
      "outputs": [
        {
          "output_type": "stream",
          "name": "stdout",
          "text": [
            "b\n"
          ]
        }
      ]
    },
    {
      "cell_type": "code",
      "source": [
        "#10. Write a code to reverse the list [10, 20, 30, 40, 50].\n",
        "\n",
        "p=[10, 20, 30, 40, 50]\n",
        "print(p)\n",
        "print(p[::-1])\n",
        "#use reverse method\n",
        "p.reverse()\n",
        "print(p)\n",
        "\n"
      ],
      "metadata": {
        "colab": {
          "base_uri": "https://localhost:8080/"
        },
        "id": "8mlflj4KcHf1",
        "outputId": "833ed262-df97-49d5-ec06-09a1aa742412"
      },
      "execution_count": null,
      "outputs": [
        {
          "output_type": "stream",
          "name": "stdout",
          "text": [
            "[10, 20, 30, 40, 50]\n",
            "[50, 40, 30, 20, 10]\n",
            "[50, 40, 30, 20, 10]\n"
          ]
        }
      ]
    },
    {
      "cell_type": "code",
      "source": [
        "#11. Write a code to create a tuple with the elements 100, 200, 300 and print it.\n",
        "\n",
        "a=(100,200,300)\n",
        "print(a,type(a))"
      ],
      "metadata": {
        "colab": {
          "base_uri": "https://localhost:8080/"
        },
        "id": "_isG_IH-cHct",
        "outputId": "ea5ae911-e0cd-49cd-e81e-02810a118c48"
      },
      "execution_count": null,
      "outputs": [
        {
          "output_type": "stream",
          "name": "stdout",
          "text": [
            "(100, 200, 300) <class 'tuple'>\n"
          ]
        }
      ]
    },
    {
      "cell_type": "code",
      "source": [
        "#12. Write a code to access the second-to-last element of the tuple ('red', 'green', 'blue', 'yellow').\n",
        "\n",
        "h=('red', 'green', 'blue', 'yellow')\n",
        "print(h[-2])"
      ],
      "metadata": {
        "colab": {
          "base_uri": "https://localhost:8080/"
        },
        "id": "vUgVd5ObcHZm",
        "outputId": "f1504a56-e363-4987-a362-97eceabf2e6c"
      },
      "execution_count": null,
      "outputs": [
        {
          "output_type": "stream",
          "name": "stdout",
          "text": [
            "blue\n"
          ]
        }
      ]
    },
    {
      "cell_type": "code",
      "source": [
        "#13. Write a code to find the minimum number in the tuple (10, 20, 5, 15).\n",
        "\n",
        "s=(10, 20, 5, 15)\n",
        "print(min(s))"
      ],
      "metadata": {
        "colab": {
          "base_uri": "https://localhost:8080/"
        },
        "id": "jlKdXODYcHWO",
        "outputId": "8735494c-a382-4b1f-e151-0e7ead4eeeba"
      },
      "execution_count": null,
      "outputs": [
        {
          "output_type": "stream",
          "name": "stdout",
          "text": [
            "5\n"
          ]
        }
      ]
    },
    {
      "cell_type": "code",
      "source": [
        "#14. Write a code to find the index of the element \"cat\" in the tuple ('dog', 'cat', 'rabbit').\n",
        "\n",
        "f=('dog', 'cat', 'rabbit')\n",
        "print(f.index(\"cat\"))"
      ],
      "metadata": {
        "colab": {
          "base_uri": "https://localhost:8080/"
        },
        "id": "DposbY0jcHS2",
        "outputId": "97d2f571-768a-4412-8dda-2173869c2e4b"
      },
      "execution_count": null,
      "outputs": [
        {
          "output_type": "stream",
          "name": "stdout",
          "text": [
            "1\n"
          ]
        }
      ]
    },
    {
      "cell_type": "code",
      "source": [
        "#15. Write a code to create a tuple containing three different fruits and check if \"kiwi\" is in it.\n",
        "\n",
        "fruit= ('apple', 'banana','kiwi' )\n",
        "print('kiwi' in fruit)"
      ],
      "metadata": {
        "colab": {
          "base_uri": "https://localhost:8080/"
        },
        "id": "Jhzji6FDcHPO",
        "outputId": "cc7cba86-5bbf-4c3a-ea1f-a1c329939058"
      },
      "execution_count": null,
      "outputs": [
        {
          "output_type": "stream",
          "name": "stdout",
          "text": [
            "True\n"
          ]
        }
      ]
    },
    {
      "cell_type": "code",
      "source": [
        "#16. Write a code to create a set with the elements 'a', 'b', 'c' and print it.\n",
        "element={'a','b','c'}\n",
        "print(element , type(element))"
      ],
      "metadata": {
        "colab": {
          "base_uri": "https://localhost:8080/"
        },
        "id": "tU4qctpxcHL1",
        "outputId": "4351c74b-5f0a-4139-e6d1-02fa5f8e8de9"
      },
      "execution_count": null,
      "outputs": [
        {
          "output_type": "stream",
          "name": "stdout",
          "text": [
            "{'b', 'c', 'a'} <class 'set'>\n"
          ]
        }
      ]
    },
    {
      "cell_type": "code",
      "source": [
        "#17. Write a code to clear all elements from the set {1, 2, 3, 4, 5}.\n",
        "\n",
        "e={1, 2, 3, 4, 5}\n",
        "e.clear()\n",
        "print(e)"
      ],
      "metadata": {
        "colab": {
          "base_uri": "https://localhost:8080/"
        },
        "id": "uviZxi2McHId",
        "outputId": "85a111dc-fcb8-4204-c229-b3036188714a"
      },
      "execution_count": null,
      "outputs": [
        {
          "output_type": "stream",
          "name": "stdout",
          "text": [
            "set()\n"
          ]
        }
      ]
    },
    {
      "cell_type": "code",
      "source": [
        "#18. Write a code to remove the element 4 from the set {1, 2, 3, 4}..\n",
        "\n",
        "f={1, 2, 3, 4}\n",
        "f.remove(4)\n",
        "print(f)"
      ],
      "metadata": {
        "colab": {
          "base_uri": "https://localhost:8080/"
        },
        "id": "gxQGWgqOcHFA",
        "outputId": "5ac94b10-70d6-4b25-f01b-68705a649425"
      },
      "execution_count": null,
      "outputs": [
        {
          "output_type": "stream",
          "name": "stdout",
          "text": [
            "{1, 2, 3}\n"
          ]
        }
      ]
    },
    {
      "cell_type": "code",
      "source": [
        "#19. Write a code to find the union of two sets {1, 2, 3} and {3, 4, 5}.\n",
        "\n",
        "a={1,2,3}\n",
        "b={3,4,5}\n",
        "print(a|b)"
      ],
      "metadata": {
        "colab": {
          "base_uri": "https://localhost:8080/"
        },
        "id": "vYOYvusecHBH",
        "outputId": "dda07ad6-242a-4670-87f2-2e24e3c6d1af"
      },
      "execution_count": null,
      "outputs": [
        {
          "output_type": "stream",
          "name": "stdout",
          "text": [
            "{1, 2, 3, 4, 5}\n"
          ]
        }
      ]
    },
    {
      "cell_type": "code",
      "source": [
        "#20. Write a code to find the intersection of two sets {1, 2, 3} and {2, 3, 4}.\n",
        "\n",
        "a={1,2,3}\n",
        "b={2,3,4}\n",
        "print(a&b)"
      ],
      "metadata": {
        "colab": {
          "base_uri": "https://localhost:8080/"
        },
        "id": "7EY10bdgcG9F",
        "outputId": "86900573-3d13-4f03-a646-6af53ad62df8"
      },
      "execution_count": null,
      "outputs": [
        {
          "output_type": "stream",
          "name": "stdout",
          "text": [
            "{2, 3}\n"
          ]
        }
      ]
    },
    {
      "cell_type": "code",
      "source": [
        "#21. Write a code to create a dictionary with the keys \"name\", \"age\", and \"city\", and print it.\n",
        "\n",
        "d={\"name\":\"Soujit Bakshi\", \"age\":22,\"city\":\"BUrdwan\"}\n",
        "print(d , type(d))"
      ],
      "metadata": {
        "colab": {
          "base_uri": "https://localhost:8080/"
        },
        "id": "-e-N-o6-cG39",
        "outputId": "b2a3d5e9-c85e-49d5-c8c0-3c2fd1b9243b"
      },
      "execution_count": null,
      "outputs": [
        {
          "output_type": "stream",
          "name": "stdout",
          "text": [
            "{'name': 'Soujit Bakshi', 'age': 22, 'city': 'BUrdwan'} <class 'dict'>\n"
          ]
        }
      ]
    },
    {
      "cell_type": "code",
      "source": [
        "#22. Write a code to add a new key-value pair \"country\": \"USA\" to the dictionary {'name': 'John', 'age': 25}.\n",
        "\n",
        "d={'name': 'John', 'age': 25}\n",
        "c={\"country\": \"USA\" }\n",
        "d.update(c)\n",
        "print(d)"
      ],
      "metadata": {
        "colab": {
          "base_uri": "https://localhost:8080/"
        },
        "id": "BZcFMRZmcGwt",
        "outputId": "1bcf4e7e-2221-4346-89c7-4b50ce4d2351"
      },
      "execution_count": null,
      "outputs": [
        {
          "output_type": "stream",
          "name": "stdout",
          "text": [
            "{'name': 'John', 'age': 25, 'country': 'USA'}\n"
          ]
        }
      ]
    },
    {
      "cell_type": "code",
      "source": [
        "#23. Write a code to access the value associated with the key \"name\" in the dictionary {'name': 'Alice', 'age': 30}.\n",
        "\n",
        "d={'na': 'Alice', 'age': 30}\n",
        "print(d['na'])"
      ],
      "metadata": {
        "colab": {
          "base_uri": "https://localhost:8080/"
        },
        "id": "YaXxg8yYcGmV",
        "outputId": "444fbc62-0913-46a0-82f0-a56289a14e06"
      },
      "execution_count": null,
      "outputs": [
        {
          "output_type": "stream",
          "name": "stdout",
          "text": [
            "Alice\n"
          ]
        }
      ]
    },
    {
      "cell_type": "code",
      "source": [
        "#24. Write a code to remove the key \"age\" from the dictionary {'name': 'Bob', 'age': 22, 'city': 'New York'}.\n",
        "\n",
        "d={'name': 'Bob', 'age': 22, 'city': 'New York'}\n",
        "del d['age'] #or d.pop('age')\n",
        "print(d)"
      ],
      "metadata": {
        "colab": {
          "base_uri": "https://localhost:8080/"
        },
        "id": "_kBD8cx8cvXF",
        "outputId": "5c1e2745-6a60-4a0a-fadc-037747fc73af"
      },
      "execution_count": null,
      "outputs": [
        {
          "output_type": "stream",
          "name": "stdout",
          "text": [
            "{'name': 'Bob', 'city': 'New York'}\n"
          ]
        }
      ]
    },
    {
      "cell_type": "code",
      "source": [
        "#25. Write a code to check if the key \"city\" exists in the dictionary {'name': 'Alice', 'city': 'Paris'}..\n",
        "\n",
        "h={'name': 'Alice', 'city': 'Paris'}\n",
        "print('city' in h)"
      ],
      "metadata": {
        "colab": {
          "base_uri": "https://localhost:8080/"
        },
        "id": "452A11jxcvUd",
        "outputId": "b0e24937-d220-49df-a6c1-c5213f235bc5"
      },
      "execution_count": null,
      "outputs": [
        {
          "output_type": "stream",
          "name": "stdout",
          "text": [
            "True\n"
          ]
        }
      ]
    },
    {
      "cell_type": "code",
      "source": [
        "#26. Write a code to create a list, a tuple, and a dictionary, and print them all.\n",
        "\n",
        "my_list = [1, 2, 3]\n",
        "my_tuple = (4, 5, 6)\n",
        "my_dict = {'a': 1, 'b': 2}\n",
        "print(my_list,type(my_list))\n",
        "print(my_tuple,type(my_tuple))\n",
        "print(my_dict,type(my_dict))"
      ],
      "metadata": {
        "colab": {
          "base_uri": "https://localhost:8080/"
        },
        "id": "22JkfAXtcvPm",
        "outputId": "3bf8d663-03d9-4b55-ecf1-8622529b8c17"
      },
      "execution_count": null,
      "outputs": [
        {
          "output_type": "stream",
          "name": "stdout",
          "text": [
            "[1, 2, 3] <class 'list'>\n",
            "(4, 5, 6) <class 'tuple'>\n",
            "{'a': 1, 'b': 2} <class 'dict'>\n"
          ]
        }
      ]
    },
    {
      "cell_type": "code",
      "source": [
        "#27. Write a code to create a list of 5 random numbers between 1 and 100, sort it in ascending order, and print the  result.(replaced)\n",
        "\n",
        "import random\n",
        "rand_nums = random.sample(range(1, 101), 5)\n",
        "rand_nums.sort()\n",
        "print(rand_nums)"
      ],
      "metadata": {
        "colab": {
          "base_uri": "https://localhost:8080/"
        },
        "id": "IpxUMGAHcvMu",
        "outputId": "68bc56c2-2764-48b4-9f96-71af02078c87"
      },
      "execution_count": null,
      "outputs": [
        {
          "output_type": "stream",
          "name": "stdout",
          "text": [
            "[15, 53, 63, 64, 81]\n"
          ]
        }
      ]
    },
    {
      "cell_type": "code",
      "source": [
        "#28. Write a code to create a list with strings and print the element at the third index.\n",
        "\n",
        "str_list = [\"apple\", \"banana\", \"cherry\", \"date\", \"fig\"]\n",
        "print(str_list[3])"
      ],
      "metadata": {
        "id": "3WLEWnj5cvI9",
        "colab": {
          "base_uri": "https://localhost:8080/"
        },
        "outputId": "995fb8d7-70fe-45f8-e3fa-abd7a56bd20d"
      },
      "execution_count": null,
      "outputs": [
        {
          "output_type": "stream",
          "name": "stdout",
          "text": [
            "date\n"
          ]
        }
      ]
    },
    {
      "cell_type": "code",
      "source": [
        "#29. Write a code to combine two dictionaries into one and print the result.\n",
        "\n",
        "#using union method\n",
        "dic = {'a': 1, 'b': 2}\n",
        "dict1= {'b': 3, 'c': 4}\n",
        "merged_dict = dic | dict1\n",
        "print(merged_dict)\n",
        "\n",
        "# #using update method\n",
        "#    dict3= {'a': 1, 'b': 2}\n",
        "#    dict4= {'b': 3, 'c': 4}\n",
        "#    dict1.update(dict2)\n",
        "#    print(dict1)\n",
        "\n",
        "# #using ** operator\n",
        "\n",
        "#    dict5= {\"a\": 1, \"b\": 2}\n",
        "#    dict6= {\"c\": 3, \"d\": 4}\n",
        "#    combined = {**dict1, **dict2}\n",
        "#    print(combined)"
      ],
      "metadata": {
        "colab": {
          "base_uri": "https://localhost:8080/"
        },
        "id": "HQGgHlhBcvF9",
        "outputId": "9c61470b-5f03-4ff5-a9de-6198052338f8"
      },
      "execution_count": null,
      "outputs": [
        {
          "output_type": "stream",
          "name": "stdout",
          "text": [
            "{'a': 1, 'b': 3, 'c': 4}\n"
          ]
        }
      ]
    },
    {
      "cell_type": "code",
      "source": [
        "#30. Write a code to convert a list of strings into a set.\n",
        "\n",
        "str_list = [\"apple\", \"banana\", \"cherry\", \"apple\"]\n",
        "str_set = set(str_list)\n",
        "print(str_set,type(str_set))"
      ],
      "metadata": {
        "id": "Zyj-xoxecvDV",
        "colab": {
          "base_uri": "https://localhost:8080/"
        },
        "outputId": "63160558-3f0c-4fd1-9e4c-ea4d2705ceef"
      },
      "execution_count": null,
      "outputs": [
        {
          "output_type": "stream",
          "name": "stdout",
          "text": [
            "{'cherry', 'apple', 'banana'} <class 'set'>\n"
          ]
        }
      ]
    }
  ]
}